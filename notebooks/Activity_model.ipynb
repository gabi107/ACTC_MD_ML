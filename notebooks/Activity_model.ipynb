{
 "cells": [
  {
   "cell_type": "code",
   "execution_count": null,
   "metadata": {},
   "outputs": [],
   "source": [
    "import sys\n",
    "import os\n",
    "\n",
    "os.chdir('../src')\n",
    "os.getcwd()"
   ]
  },
  {
   "cell_type": "code",
   "execution_count": null,
   "metadata": {},
   "outputs": [],
   "source": [
    "# import library\n",
    "import numpy as np\n",
    "import pandas as pd\n",
    "from rdkit import Chem\n",
    "from rdkit.Chem import AllChem\n",
    "from rdkit.ML.Descriptors import MoleculeDescriptors\n",
    "from sklearn.preprocessing import OneHotEncoder\n",
    "import sys\n",
    "import os\n",
    "from sklearn.preprocessing import StandardScaler\n",
    "from sklearn.preprocessing import MinMaxScaler\n",
    "from pymoo.algorithms.moo.nsga2 import NSGA2\n",
    "from pymoo.algorithms.soo.nonconvex.ga import GA\n",
    "from pymoo.core.problem import ElementwiseProblem\n",
    "from pymoo.factory import (get_crossover, get_mutation, get_sampling,\n",
    "                           get_termination)\n",
    "from pymoo.optimize import minimize\n",
    "from pymoo.core.problem import ElementwiseProblem\n",
    "from pymoo.core.variable import Real, Integer, Choice, Binary\n",
    "from pymoo.algorithms.moo.nsga2 import NSGA2\n",
    "from pymoo.core.mixed import MixedVariableMating, MixedVariableGA, MixedVariableSampling, MixedVariableDuplicateElimination\n",
    "from pymoo.optimize import minimize\n",
    "from trainers_hkg import Trainers\n",
    "import matplotlib.pyplot as plt\n",
    "from sklearn.preprocessing import StandardScaler\n",
    "from sklearn.preprocessing import OneHotEncoder\n",
    "from sklearn.svm import SVR\n",
    "from sklearn.linear_model import Lasso\n",
    "from sklearn import metrics\n",
    "from sklearn.model_selection import train_test_split\n",
    "from sklearn.metrics import mean_squared_error\n",
    "from sklearn.metrics import mean_absolute_error\n",
    "from sklearn.neural_network import MLPRegressor\n",
    "from sklearn.ensemble import RandomForestRegressor\n",
    "from sklearn import preprocessing\n",
    "import warnings\n",
    "import shap\n",
    "import pickle\n",
    "from sklearn.decomposition import PCA\n",
    "import seaborn as sns\n",
    "from featurizer import featurization_FW2, normalizedata, score,shap_plot,plot,transformPCA_ONE,convertInputs\n",
    "\n"
   ]
  },
  {
   "cell_type": "code",
   "execution_count": null,
   "metadata": {},
   "outputs": [],
   "source": [
    "filename = '/Volumes/Chathura_K/GitHub/ML-MD-Separations/data/generated/1-0-hgk-MD-ActCoeff-processed_Activity.xlsx'"
   ]
  },
  {
   "cell_type": "code",
   "execution_count": null,
   "metadata": {},
   "outputs": [],
   "source": [
    "polymers_names = [\n",
    "    'AR103',\n",
    "    'AR204',\n",
    "    'CR61',\n",
    "    'NAFION',\n",
    "    'PVAS_BCE',\n",
    "    'PVAS_RCE',\n",
    "    'PSbNMP_BCE',\n",
    "    'PSbNMP_RCE',\n",
    "    'CEM1',\n",
    "    'CEM2',\n",
    "    'CEM3',\n",
    "    'XLAPn4_9p',\n",
    "    'XLAPn4_45p'\n",
    "    \n",
    "]\n",
    "\n",
    "polymers_smiles = [\n",
    "    'CC1CC2CCC3=CC=C(C=C3)C(CC(CC(C)C4=CC=C1C=C4)C5=CC=C2C=C5)CC(CC(CC(C)C6=CC=C(C[N+](C)(C)C)C=C6)C7=CC=C(C[N+](C)(C)C)C=C7)C8=CC=C(C[N+](C)(C)C)C=C8',\n",
    "    'CC1CC2(C)CC(C)(CC(C)(CC(C)(CC(C)(C)C(=O)OCC[N+](C)(C)C)C(=O)OCC[N+](C)(C)C)C(=O)OCC[N+](C)(C)C)C(=O)OCCOC(=O)C(C)(C)CC(C)(CC(C)(C)C(=O)OCCOC1=O)C(=O)OCCOC2=O',\n",
    "    'CC1CC2CCC3=CC=C(C=C3)C(CC(CCC4=CC=C1C=C4)C5=CC=C2C=C5)CC(CC(CC(C)C6=CC=C(C=C6)[S](=O)(=O)[O-])C7=CC=C(C=C7)[S](=O)(=O)[O-])C8=CC=C(C=C8)[S](=O)(=O)[O-]',\n",
    "    '[O-][S](=O)(=O)C(F)(F)C(F)(F)OC(F)(C(F)(F)F)C(F)(F)OC(F)(F)C(F)(F)C(F)(F)C(F)(F)C(F)(F)C(F)(F)C(F)(OC(F)(F)C(F)(OC(F)(F)C(F)(F)[S](=O)(=O)[O-])C(F)(F)F)C(F)(F)C(F)(F)C(F)(F)C(F)(OC(F)(F)C(F)(OC(F)(F)C(F)(F)[S](=O)(=O)[O-])C(F)(F)F)C(F)(F)F',\n",
    "    'CC(O)CC(O)CC(O)CC(CC(CC(C)O[S](=O)(=O)[O-])O[S](=O)(=O)[O-])O[S](=O)(=O)[O-]',\n",
    "    'CC(CC(O)CC(O)CC(CC(O)CC(C)O[S](=O)(=O)[O-])O[S](=O)(=O)[O-])O[S](=O)(=O)[O-]',\n",
    "    'CC(CC(CC(CC(CC(CC(CC(CC(CCC1=CC=CC=[N+]1C)C2=NC=CC=C2)C3=CC=CC=[N+]3C)C4=NC=CC=C4)C5=CC=CC=[N+]5C)C6=NC=CC=C6)C7=CC=CC=C7)C8=CC=CC=C8)C9=CC=CC=C9',\n",
    "    'CC(CC(CC(CC(CC(CC(CC(CC(CC(C)C1=NC=CC=C1)C2=[N+](C)C=CC=C2)C3=CC=CC=C3)C4=[N+](C)C=CC=C4)C5=CC=CC=C5)C6=[N+](C)C=CC=C6)C7=CC=CC=C7)C8=CC=CC=N8)C9=NC=CC=C9',\n",
    "    'CC(CC(CC(CC1(C)CC2(C)CC(C)(C)C(=O)OCCCOCCOC(=O)C(C)(C)CC(C)(CC(C)(C)C(=O)OCCOCCCOC1=O)C(=O)OCCOCCCOC2=O)C(=O)NC(C)(C)C[S]([O-])(=O)=O)C(=O)NC(C)(C)C[S]([O-])(=O)=O)C(=O)NC(C)(C)C[S]([O-])(=O)=O',\n",
    "    'CC(CC(CC1(C)CC2(C)CC3(C)CC(C)C(=O)OCCOCCCOC(=O)C(C)(C)CC(C)(CC(C)(CC(C)(C)C(=O)OCCCOCCOC1=O)C(=O)OCCCOCCOC2=O)C(=O)OCCCOCCOC3=O)C(=O)NC(C)(C)C[S]([O-])(=O)=O)C(=O)NC(C)(C)C[S]([O-])(=O)=O',\n",
    "    'CC(CC1(C)CC2(C)CC3(C)CC4(C)CC(C)(C)C(=O)OCCCOCCOC(=O)C(C)CC(C)(CC(C)(CC(C)(CC(C)(C)C(=O)OCCOCCCOC1=O)C(=O)OCCOCCCOC2=O)C(=O)OCCOCCCOC3=O)C(=O)OCCOCCCOC4=O)C(=O)NC(C)(C)C[S]([O-])(=O)=O',\n",
    "    'CC(C)(C[S]([O-])(=O)=O)NC(=O)CC1C2C3C4CC(=O)OCCOCCOCCOCCOC(=O)CC(C(C(CC(=O)OCCOCCOCCOCCOC1=O)C(=O)OCCOCCOCCOCCOC2=O)C(=O)OCCOCCOCCOCCOC3=O)C(=O)OCCOCCOCCOCCOC4=O',\n",
    "    'CC(C(C(C(C1C(C)C(=O)OCCOCCOCCOCCOC(=O)C(C)C(C)C(=O)OCCOCCOCCOCCOC1=O)C(=O)NC(C)(C)C[S]([O-])(=O)=O)C(=O)NC(C)(C)C[S]([O-])(=O)=O)C(=O)NC(C)(C)C[S]([O-])(=O)=O)C(=O)NC(C)(C)C[S]([O-])(=O)=O'\n",
    "    \n",
    "]\n",
    "\n",
    "polymers_dict_ = dict(zip(polymers_names, polymers_smiles))\n",
    "\n",
    "#polymers_dict_"
   ]
  },
  {
   "cell_type": "code",
   "execution_count": null,
   "metadata": {},
   "outputs": [],
   "source": [
    "# Load data, encode the ions, molecules\n",
    "(data01_MorganDescr, ohe_ions01_MorganDescr, fingerprints01_MorganDescr) = featurization_FW2(\n",
    "    filename, polymers_names, polymers_smiles, descriptorType = 'MorganDescr', approach = 'METHODX_A0')"
   ]
  },
  {
   "cell_type": "code",
   "execution_count": null,
   "metadata": {},
   "outputs": [],
   "source": [
    "X = data01_MorganDescr.iloc[:,:-1]\n",
    "Y = data01_MorganDescr.iloc[:, -1]"
   ]
  },
  {
   "cell_type": "markdown",
   "metadata": {},
   "source": [
    "## A0 -No transfomation"
   ]
  },
  {
   "cell_type": "code",
   "execution_count": null,
   "metadata": {},
   "outputs": [],
   "source": [
    "# split and transfrom dataset\n",
    "# if transformation of input is desired, set property = 'X' and transform = True\n",
    "# if transformation of output is desired, set property = 'Y' and transform = True\n",
    "# set splitRatio = 0.2 or 0.1, state = 0\n",
    "(X01_MF_train, X01_MF_test, y01_MF_train, y01_MF_test) = normalizedata(X, Y, \n",
    "                                                        splitRatio = 0.2, state = 0,transform = False, property = 'X')\n",
    "\n",
    "print(f\"X01_train, X01_test, y01_train, and y01_test has shapes of {X01_MF_train.shape}, {X01_MF_test.shape}, {y01_MF_train.shape}, and {y01_MF_test.shape}\")"
   ]
  },
  {
   "cell_type": "markdown",
   "metadata": {},
   "source": [
    "## A1 - PCA apply to all the input features"
   ]
  },
  {
   "cell_type": "code",
   "execution_count": null,
   "metadata": {},
   "outputs": [],
   "source": [
    "# PCA transform\n",
    "\n",
    "pca_X01_MF_train_ALL, pca_X01_MF_test_ALL = convertInputs(X01_MF_train, X01_MF_test,fingerprints01_MorganDescr, type = 'All')\n",
    "print(f\"pca_X01_MF_train_ALL and pca_X01_MF_test_ALL has shapes of {pca_X01_MF_train_ALL.shape}, and {pca_X01_MF_test_ALL.shape}, respectively.\")"
   ]
  },
  {
   "cell_type": "code",
   "execution_count": null,
   "metadata": {},
   "outputs": [],
   "source": [
    "transformPCA_ONE(x = X, length = fingerprints01_MorganDescr.shape[1], type = 'ALL')"
   ]
  },
  {
   "cell_type": "markdown",
   "metadata": {},
   "source": [
    "## A2 - PCA applied only to the polymer fingerprints"
   ]
  },
  {
   "cell_type": "code",
   "execution_count": null,
   "metadata": {},
   "outputs": [],
   "source": [
    "# PCA transform\n",
    "pca_X01_MF_train_ALL, pca_X01_MF_test_ALL = convertInputs(X01_MF_train, X01_MF_test,fingerprints01_MorganDescr, type = 'All')\n",
    "pca_X01_MF_train_MDFP, pca_X01_MF_test_MDFP = convertInputs(X01_MF_train, X01_MF_test,fingerprints01_MorganDescr,type = 'MDFP')\n",
    "print(f\"pca_X01_MF_train_MDFP, pca_X01_MF_test_MDFP, y01_train, and y01_test has shapes of {pca_X01_MF_train_MDFP.shape}, and {pca_X01_MF_test_MDFP.shape}, respectively.\")"
   ]
  },
  {
   "cell_type": "code",
   "execution_count": null,
   "metadata": {},
   "outputs": [],
   "source": [
    "transformPCA_ONE(x = X, length = fingerprints01_MorganDescr.shape[1], type = 'MDFP')"
   ]
  },
  {
   "cell_type": "code",
   "execution_count": null,
   "metadata": {},
   "outputs": [],
   "source": [
    "# Load train and test data (A0 / A1 /A2)\n",
    "X_train =X01_MF_train\n",
    "y_train =y01_MF_train\n",
    "X_test =X01_MF_test\n",
    "y_test =y01_MF_test"
   ]
  },
  {
   "cell_type": "markdown",
   "metadata": {},
   "source": [
    "## ML models\n",
    "## Hyperpaermater optimization\n",
    "## SVR"
   ]
  },
  {
   "cell_type": "code",
   "execution_count": null,
   "metadata": {},
   "outputs": [],
   "source": [
    "class svrModel(ElementwiseProblem):\n",
    "    def __init__(self, X_train, X_test, y_train, y_test, **kwargs):\n",
    "        vars = {\n",
    "            \"C\": Real(bounds = (0.1, 100)),\n",
    "            \"epsilon\": Real(bounds = (0.01, 20.0))\n",
    "        }\n",
    "\n",
    "        super().__init__(vars=vars, n_obj=3, n_ieq_constr=0, **kwargs)\n",
    "\n",
    "        self.trainer = Trainers()\n",
    "\n",
    "        self.X_train = X_train\n",
    "        self.X_test = X_test\n",
    "        self.y_train = y_train\n",
    "        self.y_test = y_test\n",
    "\n",
    "\n",
    "    def _evaluate(self, X, out, *arg, **kwargs):\n",
    "\n",
    "        scores = self.trainer.trainSVR(h_params= X,\n",
    "                                       X_train=self.X_train,\n",
    "                                       X_test=self.X_test,\n",
    "                                       y_train=self.y_train,\n",
    "                                       y_test=self.y_test,\n",
    "                                       folds=5)\n",
    "\n",
    "        out['F'] = [-1 * scores[0], scores[1], -1 * scores[2]]\n",
    "\n",
    "\n",
    "class Solvers(ElementwiseProblem):\n",
    "    def __init__(self):\n",
    "        super(ElementwiseProblem, self).__init__()\n",
    "\n",
    "    def svrSolver(self, X_train, X_test, y_train, y_test):\n",
    "\n",
    "        problem = svrModel(X_train, X_test, y_train, y_test)\n",
    "\n",
    "        algorithm = NSGA2(  \n",
    "                        pop_size=2,\n",
    "                        sampling=MixedVariableSampling(),\n",
    "                        mating=MixedVariableMating(eliminate_duplicates=MixedVariableDuplicateElimination()),\n",
    "                        eliminate_duplicates=MixedVariableDuplicateElimination(),\n",
    "                        n_offsprings=4\n",
    "                        )\n",
    "\n",
    "        res = minimize(problem,\n",
    "                       algorithm,\n",
    "                       termination=(\"n_gen\", 500),\n",
    "                       seed=1,\n",
    "                       save_history=True,\n",
    "                       verbose=True)\n",
    "\n",
    "        return res\n",
    "\n",
    "    def get_best(self, res):\n",
    "\n",
    "        for i in range(len(res.F)):\n",
    "\n",
    "            w_metric = -1 * res.F[:, 0] - res.F[:, 1] - res.F[:, 2]\n",
    "\n",
    "            if w_metric[i] == max(w_metric[:]):\n",
    "                best_x = res.X[i]\n",
    "                best_f = res.F[i]\n",
    "\n",
    "        return best_x, best_f"
   ]
  },
  {
   "cell_type": "code",
   "execution_count": null,
   "metadata": {},
   "outputs": [],
   "source": [
    "solver = Solvers()\n",
    "trainer = Trainers()\n",
    "\n",
    "res = solver.svrSolver(X_train=X_train,\n",
    "                X_test=X_test,\n",
    "                y_train=y_train,\n",
    "                y_test=y_test)\n",
    "\n",
    "h_params, best_F = solver.get_best(res)\n",
    "\n",
    "score = trainer.trainSVR(h_params=h_params,\n",
    "                        X_train=X_train,\n",
    "                        X_test=X_test,\n",
    "                        y_train=y_train,\n",
    "                        y_test=y_test,\n",
    "                        folds=5)\n",
    "\n",
    "print(h_params)\n",
    "print(\"%0.2f accuracy with a standard deviation of %0.2f. R^2: %0.2f\" %\n",
    "        (score[0], score[1], score[2]))"
   ]
  },
  {
   "cell_type": "code",
   "execution_count": null,
   "metadata": {},
   "outputs": [],
   "source": [
    "#SVR Model with best hyperparamets\n",
    "encoder_SVR=SVR(C = 14.21384202663237, epsilon= 0.010102095368884755).fit(X_train, y_train)"
   ]
  },
  {
   "cell_type": "code",
   "execution_count": null,
   "metadata": {},
   "outputs": [],
   "source": [
    "#Scores (R^2, MAE, MSE)\n",
    "#Change the model name accordingly\n",
    "# Train\n",
    "(SVR_MF_train_mse_A1, SVR_MF_train_mae_A1,SVR_MF_train_rsquared_A1) = score(encoder_SVR, X_train, y_train)\n",
    "## Test\n",
    "(SVR_MF_test_mse_A1, SVR_MF_test_mae_A1,SVR_MF_test_rsquared_A1) = score(encoder_SVR, X_test, y_test)\n",
    "\n",
    "print(SVR_MF_train_rsquared_A1)\n",
    "print(SVR_MF_train_mae_A1)\n",
    "print(SVR_MF_train_mse_A1)"
   ]
  },
  {
   "cell_type": "markdown",
   "metadata": {},
   "source": [
    "## Activity coefficient predictions versus measured values"
   ]
  },
  {
   "cell_type": "code",
   "execution_count": null,
   "metadata": {},
   "outputs": [],
   "source": [
    "# Change the model name accordingly\n",
    "plot(encoder_SVR,X_train,y_train,X_test, y_test)"
   ]
  },
  {
   "cell_type": "markdown",
   "metadata": {},
   "source": [
    "## SHAP Values"
   ]
  },
  {
   "cell_type": "code",
   "execution_count": null,
   "metadata": {},
   "outputs": [],
   "source": [
    "## Change the model accordingly\n",
    "shap_plot(encoder_SVR,X_train,y_train,X_test, y_test,X)"
   ]
  },
  {
   "cell_type": "markdown",
   "metadata": {},
   "source": [
    "## Hyper-parameter optimization(ANN regression)"
   ]
  },
  {
   "cell_type": "code",
   "execution_count": null,
   "metadata": {},
   "outputs": [],
   "source": [
    "class annModel(ElementwiseProblem):\n",
    "    def __init__(self, X_train, X_test, y_train, y_test, **kwargs):\n",
    "        vars = {\n",
    "            \"alpha\": Choice(options = [0.0001, 0.001, 0.01, 0.1, 1]),\n",
    "            \"learning_rate_init\": Choice(options = [0.001, 0.01, 0.1, 1.0]),\n",
    "            \"activation_idx\":Integer(bounds = (0, 2)),\n",
    "            'solver_idx': Integer(bounds = (0, 1)),\n",
    "            \"learning_rate_idx\": Integer(bounds=(0, 2))\n",
    "        }\n",
    "\n",
    "\n",
    "        super().__init__(vars=vars, n_obj=3, n_ieq_constr=0, **kwargs)\n",
    "\n",
    "        self.trainer = Trainers()\n",
    "        \n",
    "        self.X_train = X_train\n",
    "        self.X_test = X_test\n",
    "        self.y_train = y_train\n",
    "        self.y_test = y_test\n",
    "\n",
    "\n",
    "    def _evaluate(self, X, out, *arg, **kwargs):\n",
    "\n",
    "        scores = self.trainer.trainANN_SingleOutput(h_params= X,\n",
    "                                       X_train=self.X_train,\n",
    "                                       X_test=self.X_test,\n",
    "                                       y_train=self.y_train,\n",
    "                                       y_test=self.y_test,\n",
    "                                       folds=5)\n",
    "\n",
    "        out['F'] = [-1 * scores[0], scores[1], -1 * scores[2]]\n",
    "\n",
    "\n",
    "class Solvers(ElementwiseProblem):\n",
    "    def __init__(self):\n",
    "        super(ElementwiseProblem, self).__init__()\n",
    "\n",
    "    def annSolver(self, X_train, X_test, y_train, y_test):\n",
    "\n",
    "        problem = annModel(X_train, X_test, y_train, y_test)\n",
    "\n",
    "        algorithm = NSGA2(  \n",
    "                        pop_size=2,\n",
    "                        sampling=MixedVariableSampling(),\n",
    "                        mating=MixedVariableMating(eliminate_duplicates=MixedVariableDuplicateElimination()),\n",
    "                        eliminate_duplicates=MixedVariableDuplicateElimination(),\n",
    "                        n_offsprings=4\n",
    "                        )\n",
    "\n",
    "\n",
    "        res = minimize(problem,\n",
    "                       algorithm,\n",
    "                       termination=(\"n_gen\",10),\n",
    "                       seed=1,\n",
    "                       save_history=True,\n",
    "                       verbose=True)\n",
    "\n",
    "        return res\n",
    "\n",
    "    def get_best(self, res):\n",
    "\n",
    "        for i in range(len(res.F)):\n",
    "\n",
    "            w_metric = -1 * res.F[:, 0] - res.F[:, 1] - res.F[:, 2]\n",
    "\n",
    "            if w_metric[i] == max(w_metric[:]):\n",
    "                best_x = res.X[i]\n",
    "                best_f = res.F[i]\n",
    "\n",
    "        return best_x, best_f"
   ]
  },
  {
   "cell_type": "code",
   "execution_count": null,
   "metadata": {},
   "outputs": [],
   "source": [
    "solver = Solvers()\n",
    "trainer = Trainers()\n",
    "\n",
    "res = solver.annSolver(X_train=X_train,\n",
    "                X_test=X_test,\n",
    "                y_train=y_train,\n",
    "                y_test=y_test)\n",
    "\n",
    "h_params, best_F = solver.get_best(res)\n",
    "\n",
    "score = trainer.trainANN_SingleOutput(h_params=h_params,\n",
    "                        X_train=X_train,\n",
    "                        X_test=X_test,\n",
    "                        y_train=y_train,\n",
    "                        y_test=y_test,\n",
    "                        folds=5)\n",
    "print(h_params)\n",
    "print(\"%0.2f accuracy with a standard deviation of %0.2f. R^2: %0.2f\" %\n",
    "        (score[0], score[1], score[2]))\n",
    "\n",
    "activation                 = ['logistic', 'tanh', 'relu']\n",
    "solver                     = ['lbfgs', 'adam']\n",
    "learning_rate              = ['constant', 'invscaling', 'adaptive']\n",
    "\n",
    "##ANN Model with best hyperparamets\n",
    "encoderANN =MLPRegressor(alpha=0.01,learning_rate_init=1.0,activation=activation[1],solver=solver[0],learning_rate=learning_rate[1], max_iter = 5000, n_iter_no_change = 200).fit(X_train, y_train)\n",
    "\n",
    "\n"
   ]
  },
  {
   "cell_type": "markdown",
   "metadata": {},
   "source": [
    "## Hyper parameter optimization (random forest regression)"
   ]
  },
  {
   "cell_type": "code",
   "execution_count": null,
   "metadata": {},
   "outputs": [],
   "source": [
    "class rfrModel(ElementwiseProblem):\n",
    "    def __init__(self, X_train, X_test, y_train, y_test, **kwargs):\n",
    "        vars = {\n",
    "            'max_depth': Integer(bounds = (1, 100)),\n",
    "            'n_estimators':Integer(bounds = (1, 100)),\n",
    "            'max_features_idx': Integer(bounds = (0, 2)),\n",
    "            'min_weight_fraction_leaf':Real(bounds = (0, 1)),\n",
    "            'bootstrap_idx':Integer(bounds = (0,1))\n",
    "            \n",
    "            \n",
    "        }\n",
    "\n",
    "        super().__init__(vars=vars, n_obj=3, n_ieq_constr=0, **kwargs)\n",
    "\n",
    "        self.trainer = Trainers()\n",
    "        \n",
    "        self.X_train = X_train\n",
    "        self.X_test = X_test\n",
    "        self.y_train = y_train\n",
    "        self.y_test = y_test\n",
    "\n",
    "\n",
    "    def _evaluate(self, X, out, *arg, **kwargs):\n",
    "\n",
    "        scores = self.trainer.trainRFR(h_params= X,\n",
    "                                       X_train=self.X_train,\n",
    "                                       X_test=self.X_test,\n",
    "                                       y_train=self.y_train,\n",
    "                                       y_test=self.y_test,\n",
    "                                       folds=5)\n",
    "\n",
    "        out['F'] = [-1 * scores[0], scores[1], -1 * scores[2]]\n",
    "\n",
    "\n",
    "class Solvers(ElementwiseProblem):\n",
    "    def __init__(self):\n",
    "        super(ElementwiseProblem, self).__init__()\n",
    "\n",
    "    def rfrSolver(self, X_train, X_test, y_train, y_test):\n",
    "\n",
    "        problem = rfrModel(X_train, X_test, y_train, y_test)\n",
    "\n",
    "        #change the pop-size, n_offsprings, n_gen (if needed)\n",
    "        algorithm = NSGA2(  \n",
    "                        pop_size=2,\n",
    "                        sampling=MixedVariableSampling(),\n",
    "                        mating=MixedVariableMating(eliminate_duplicates=MixedVariableDuplicateElimination()),\n",
    "                        eliminate_duplicates=MixedVariableDuplicateElimination(),\n",
    "                        n_offsprings=2\n",
    "                        )\n",
    "\n",
    "\n",
    "        res = minimize(problem,\n",
    "                       algorithm,\n",
    "                       termination=(\"n_gen\", 200),\n",
    "                       seed=1,\n",
    "                       save_history=True,\n",
    "                       verbose=True)\n",
    "\n",
    "        return res\n",
    "\n",
    "    def get_best(self, res):\n",
    "\n",
    "        for i in range(len(res.F)):\n",
    "\n",
    "            w_metric = -1 * res.F[:, 0] - res.F[:, 1] - res.F[:, 2]\n",
    "\n",
    "            if w_metric[i] == max(w_metric[:]):\n",
    "                best_x = res.X[i]\n",
    "                best_f = res.F[i]\n",
    "\n",
    "        return best_x, best_f"
   ]
  },
  {
   "cell_type": "code",
   "execution_count": null,
   "metadata": {},
   "outputs": [],
   "source": [
    "solver = Solvers()\n",
    "trainer = Trainers()\n",
    "\n",
    "\n",
    "res = solver.rfrSolver(X_train=X_train,\n",
    "                X_test=X_test,\n",
    "                y_train=y_train,\n",
    "                y_test=y_test)\n",
    "\n",
    "h_params, best_F = solver.get_best(res)\n",
    "\n",
    "score = trainer.trainRFR(h_params=h_params,\n",
    "                        X_train=X_train,\n",
    "                        X_test=X_test,\n",
    "                        y_train=y_train,\n",
    "                        y_test=y_test,\n",
    "                        folds=5)\n",
    "max_features = ['auto', 'sqrt','log2']\n",
    "bootstrap = ['True', 'False']\n",
    "print(h_params)\n",
    "print(\"%0.2f accuracy with a standard deviation of %0.2f. R^2: %0.2f\" %\n",
    "        (score[0], score[1], score[2]))"
   ]
  },
  {
   "cell_type": "code",
   "execution_count": null,
   "metadata": {},
   "outputs": [],
   "source": [
    "## RFR Model with best hyperparamets\n",
    "encoderRFR = RandomForestRegressor(max_depth=27,n_estimators=80,max_features=max_features[0],bootstrap = bootstrap[0],min_weight_fraction_leaf=0.00034777617715460105).fit(X_train, y_train)\n",
    "encoderRFR"
   ]
  },
  {
   "cell_type": "code",
   "execution_count": null,
   "metadata": {},
   "outputs": [],
   "source": []
  }
 ],
 "metadata": {
  "kernelspec": {
   "display_name": "env_name",
   "language": "python",
   "name": "env_name"
  },
  "language_info": {
   "codemirror_mode": {
    "name": "ipython",
    "version": 3
   },
   "file_extension": ".py",
   "mimetype": "text/x-python",
   "name": "python",
   "nbconvert_exporter": "python",
   "pygments_lexer": "ipython3",
   "version": "3.7.12"
  }
 },
 "nbformat": 4,
 "nbformat_minor": 4
}
