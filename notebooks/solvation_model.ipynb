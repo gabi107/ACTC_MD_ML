{
 "cells": [
  {
   "cell_type": "code",
   "execution_count": 1,
   "metadata": {},
   "outputs": [],
   "source": [
    "import sys\n",
    "import os\n",
    "%matplotlib inline"
   ]
  },
  {
   "cell_type": "code",
   "execution_count": 2,
   "metadata": {},
   "outputs": [
    {
     "data": {
      "text/plain": [
       "'/home/romagnolilab/Documents/GitHub/ACTC_MD_ML'"
      ]
     },
     "execution_count": 2,
     "metadata": {},
     "output_type": "execute_result"
    }
   ],
   "source": [
    "# get current working directory\n",
    "os.getcwd()\n",
    "# change directory\n",
    "os.chdir('../')\n",
    "os.getcwd()"
   ]
  },
  {
   "cell_type": "code",
   "execution_count": 3,
   "metadata": {},
   "outputs": [],
   "source": [
    "# import libraries\n",
    "from src.polymerSMILES import polymers\n",
    "from src.dataProcessing import * #DataPreprocessing #computeTanimotoSimilarity #* #data_load, computeTanimotoSimilarity, get_dissimilarity_map, featurizer, normalizedata"
   ]
  },
  {
   "cell_type": "code",
   "execution_count": 4,
   "metadata": {},
   "outputs": [],
   "source": [
    "# load smiles\n",
    "polymers_dict = polymers.get_data() # get rdkit formats of the polymer smiles \n"
   ]
  },
  {
   "cell_type": "code",
   "execution_count": 5,
   "metadata": {},
   "outputs": [],
   "source": [
    "# instantiate data preprocessing toolbox\n",
    "preprocess = DataPreprocessing()"
   ]
  },
  {
   "cell_type": "code",
   "execution_count": 6,
   "metadata": {},
   "outputs": [],
   "source": [
    "# compute the tanimoto similarity\n",
    "TanimotoIndex = preprocess.computeTanimotoSimilarity(polymers_dict, 'Tanimoto') \n",
    "#preprocess.get_dissimilarity_map(TanimotoIndex, title = '', filename = 'heatmap_Tanimoto') # show the heat map"
   ]
  },
  {
   "cell_type": "code",
   "execution_count": 7,
   "metadata": {},
   "outputs": [],
   "source": [
    "# show importance map\n",
    "initial_data = preprocess.data_load(filename = \"5.0-hkg-MD-ActCoeff-processed-deletedNonZeros.csv\")\n",
    "#preprocess.get_importance_feature_map(initial_data, approach = 'pearson') #approach can be {'pearson', 'kendall', 'spearman'}\n"
   ]
  },
  {
   "cell_type": "code",
   "execution_count": 8,
   "metadata": {},
   "outputs": [
    {
     "name": "stdout",
     "output_type": "stream",
     "text": [
      "X_train, X_test, y_train, & y_test has shapes of (73, 137), (19, 137), (73, 12), & (19, 12) respectively.\n"
     ]
    }
   ],
   "source": [
    "## featurization of data\n",
    "data = preprocess.data_load(filename = \"5.0-hkg-MD-ActCoeff-processed.csv\")\n",
    "## assign X, y\n",
    "(X, y, MFprints) = preprocess.featurizer(data, polymers_dict,  'solvation') # descr = 'solvation' or 'activity'\n",
    "## split and normalize data\n",
    "(data_solvation_scaler, X_train, X_test, y_train, y_test) = preprocess.normalizedata(X, y, splitRatio=0.2, state = 48, transform = True, property = 'Y')\n",
    "print(f\"X_train, X_test, y_train, & y_test has shapes of {X_train.shape}, {X_test.shape}, {y_train.shape}, & {y_test.shape} respectively.\")"
   ]
  },
  {
   "cell_type": "code",
   "execution_count": 9,
   "metadata": {},
   "outputs": [
    {
     "name": "stdout",
     "output_type": "stream",
     "text": [
      "***********************A1*************************\n"
     ]
    },
    {
     "ename": "UnboundLocalError",
     "evalue": "local variable 'length_MDFP' referenced before assignment",
     "output_type": "error",
     "traceback": [
      "\u001b[0;31m---------------------------------------------------------------------------\u001b[0m",
      "\u001b[0;31mUnboundLocalError\u001b[0m                         Traceback (most recent call last)",
      "\u001b[1;32m/home/romagnolilab/Documents/GitHub/ACTC_MD_ML/notebooks/solvation_model.ipynb Cell 9\u001b[0m in \u001b[0;36m<cell line: 3>\u001b[0;34m()\u001b[0m\n\u001b[1;32m      <a href='vscode-notebook-cell:/home/romagnolilab/Documents/GitHub/ACTC_MD_ML/notebooks/solvation_model.ipynb#X24sZmlsZQ%3D%3D?line=0'>1</a>\u001b[0m \u001b[39m# transform features using PCA\u001b[39;00m\n\u001b[1;32m      <a href='vscode-notebook-cell:/home/romagnolilab/Documents/GitHub/ACTC_MD_ML/notebooks/solvation_model.ipynb#X24sZmlsZQ%3D%3D?line=1'>2</a>\u001b[0m \u001b[39mprint\u001b[39m(\u001b[39m\"\u001b[39m\u001b[39m***********************A1*************************\u001b[39m\u001b[39m\"\u001b[39m)\n\u001b[0;32m----> <a href='vscode-notebook-cell:/home/romagnolilab/Documents/GitHub/ACTC_MD_ML/notebooks/solvation_model.ipynb#X24sZmlsZQ%3D%3D?line=2'>3</a>\u001b[0m pca_X_train_MDFP, pca_X_test_MDFP \u001b[39m=\u001b[39m preprocess\u001b[39m.\u001b[39;49mconvertInputsPCA(X_train, X_test, MFprints, \u001b[39mtype\u001b[39;49m \u001b[39m=\u001b[39;49m \u001b[39m'\u001b[39;49m\u001b[39mMDFP\u001b[39;49m\u001b[39m'\u001b[39;49m, useTrained \u001b[39m=\u001b[39;49m \u001b[39mTrue\u001b[39;49;00m)\n\u001b[1;32m      <a href='vscode-notebook-cell:/home/romagnolilab/Documents/GitHub/ACTC_MD_ML/notebooks/solvation_model.ipynb#X24sZmlsZQ%3D%3D?line=3'>4</a>\u001b[0m \u001b[39mprint\u001b[39m(\u001b[39mf\u001b[39m\u001b[39m\"\u001b[39m\u001b[39mpca_X_train_MDFP & pca_X_test_MDFP has shapes of \u001b[39m\u001b[39m{\u001b[39;00mpca_X_train_MDFP\u001b[39m.\u001b[39mshape\u001b[39m}\u001b[39;00m\u001b[39m, and \u001b[39m\u001b[39m{\u001b[39;00mpca_X_test_MDFP\u001b[39m.\u001b[39mshape\u001b[39m}\u001b[39;00m\u001b[39m, respectively.\u001b[39m\u001b[39m\"\u001b[39m)\n\u001b[1;32m      <a href='vscode-notebook-cell:/home/romagnolilab/Documents/GitHub/ACTC_MD_ML/notebooks/solvation_model.ipynb#X24sZmlsZQ%3D%3D?line=4'>5</a>\u001b[0m \u001b[39m#\u001b[39;00m\n",
      "File \u001b[0;32m~/Documents/GitHub/ACTC_MD_ML/src/dataProcessing.py:319\u001b[0m, in \u001b[0;36mDataPreprocessing.convertInputsPCA\u001b[0;34m(self, X_train, X_test, fingerprints, type, useTrained)\u001b[0m\n\u001b[1;32m    317\u001b[0m     pca\u001b[39m.\u001b[39mfit(X_train\u001b[39m.\u001b[39miloc[:, :length_MDFP])\n\u001b[1;32m    318\u001b[0m \u001b[39m# predict\u001b[39;00m\n\u001b[0;32m--> 319\u001b[0m pca_X01_MF_train_onlyMDFP \u001b[39m=\u001b[39m pca\u001b[39m.\u001b[39mtransform(X_train\u001b[39m.\u001b[39miloc[:, :length_MDFP])\n\u001b[1;32m    320\u001b[0m pca_X01_MF_test_onlyMDFP  \u001b[39m=\u001b[39m pca\u001b[39m.\u001b[39mtransform(X_test\u001b[39m.\u001b[39miloc[:, :length_MDFP])\n\u001b[1;32m    321\u001b[0m \u001b[39m# convert to pandas\u001b[39;00m\n",
      "\u001b[0;31mUnboundLocalError\u001b[0m: local variable 'length_MDFP' referenced before assignment"
     ]
    }
   ],
   "source": [
    "# transform features using PCA\n",
    "print(\"***********************A1*************************\")\n",
    "pca_X_train_MDFP, pca_X_test_MDFP = preprocess.convertInputsPCA(X_train, X_test, MFprints, type = 'MDFP', useTrained = True)\n",
    "print(f\"pca_X_train_MDFP & pca_X_test_MDFP has shapes of {pca_X_train_MDFP.shape}, and {pca_X_test_MDFP.shape}, respectively.\")\n",
    "#\n",
    "print(\"***********************A2*************************\")\n",
    "pca_X_train_ALL, pca_X_test_ALL = preprocess.convertInputsPCA(X_train, X_test, MFprints, type = 'All', useTrained = True)\n",
    "print(f\"pca_X_train_ALL & pca_X_test_ALL has shapes of {pca_X_train_ALL.shape}, and {pca_X_test_ALL.shape}, respectively.\")\n"
   ]
  },
  {
   "cell_type": "markdown",
   "metadata": {},
   "source": [
    "# Use model"
   ]
  },
  {
   "cell_type": "code",
   "execution_count": null,
   "metadata": {},
   "outputs": [],
   "source": [
    "from src.models import trainedMODELs"
   ]
  },
  {
   "cell_type": "code",
   "execution_count": null,
   "metadata": {},
   "outputs": [],
   "source": [
    "model = trainedMODELs()"
   ]
  },
  {
   "cell_type": "code",
   "execution_count": null,
   "metadata": {},
   "outputs": [],
   "source": [
    "### SVR\n",
    "# A0\n",
    "SVR_A0_results_train, SVR_A0_results_test = model.implementation(model = 'SVR', type_data = 'A0', xtrain = X_train, xtest = X_test)\n",
    "# A1\n",
    "SVR_A1_results_train, SVR_A1_results_test = model.implementation(model = 'SVR', type_data = 'A1', xtrain = pca_X_train_MDFP, xtest = pca_X_test_MDFP)\n",
    "# A2\n",
    "SVR_A2_results_train, SVR_A2_results_test = model.implementation(model = 'SVR', type_data = 'A2', xtrain = pca_X_train_ALL, xtest = pca_X_test_ALL)\n",
    "\n",
    "### ANN\n",
    "# A0\n",
    "ANN_A0_results_train, ANN_A0_results_test = model.implementation(model = 'ANN', type_data = 'A0', xtrain = X_train, xtest = X_test)\n",
    "# A1\n",
    "ANN_A1_results_train, ANN_A1_results_test = model.implementation(model = 'ANN', type_data = 'A1', xtrain = pca_X_train_MDFP, xtest = pca_X_test_MDFP)\n",
    "# A2\n",
    "ANN_A2_results_train, ANN_A2_results_test = model.implementation(model = 'ANN', type_data = 'A2', xtrain = pca_X_train_ALL, xtest = pca_X_test_ALL)\n",
    "\n",
    "### RFR\n",
    "# A0\n",
    "RFR_A0_results_train, RFR_A0_results_test = model.implementation(model = 'RFR', type_data = 'A0', xtrain = X_train, xtest = X_test)\n",
    "# A1\n",
    "RFR_A1_results_train, RFR_A1_results_test = model.implementation(model = 'RFR', type_data = 'A1', xtrain = pca_X_train_MDFP, xtest = pca_X_test_MDFP)\n",
    "# A2\n",
    "RFR_A2_results_train, RFR_A2_results_test = model.implementation(model = 'RFR', type_data = 'A2', xtrain = pca_X_train_ALL, xtest = pca_X_test_ALL)"
   ]
  },
  {
   "cell_type": "code",
   "execution_count": null,
   "metadata": {},
   "outputs": [],
   "source": [
    "# plot box plot\n",
    "model.plot_box_MAE()"
   ]
  },
  {
   "cell_type": "code",
   "execution_count": null,
   "metadata": {},
   "outputs": [],
   "source": [
    "def box_plot_MAE_ALL(ytrain, ytest, ytrain_pred_list, ytest_pred_list, type_data, title):\n",
    "    \n",
    "    # load library\n",
    "    import string\n",
    "    \n",
    "    # plot figures\n",
    "    fig, axs = plt.subplots(3, 2, figsize=(10, 10))\n",
    "\n",
    "    axs[0, 0].grid(False); axs[0, 1].grid(False)\n",
    "    axs[1, 0].grid(False); axs[1, 1].grid(False)\n",
    "    axs[2, 0].grid(False); axs[2, 1].grid(False)\n",
    "\n",
    "    ytrain = ytrain.iloc[:, :ytrain.shape[1]]; ytest = ytest.iloc[:, :ytest.shape[1]]\n",
    "    \n",
    "    box_00 = axs[0, 0].boxplot((np.abs(ytrain.to_numpy() - ytrain_pred_list[0].to_numpy())), patch_artist = True, notch = False, showfliers = False)\n",
    "    box_01 = axs[0, 1].boxplot((np.abs(ytest.to_numpy() - ytest_pred_list[0].to_numpy())), patch_artist = True, notch = False, showfliers = False)\n",
    "\n",
    "    box_10 = axs[1, 0].boxplot((np.abs(ytrain.to_numpy() - ytrain_pred_list[1].to_numpy())), patch_artist = True, notch = False, showfliers = False)\n",
    "    box_11 = axs[1, 1].boxplot((np.abs(ytest.to_numpy() - ytest_pred_list[1].to_numpy())), patch_artist = True, notch = False, showfliers = False)\n",
    "\n",
    "    box_20 = axs[2, 0].boxplot((np.abs(ytrain.to_numpy() - ytrain_pred_list[2].to_numpy())), patch_artist = True, notch = False, showfliers = False)\n",
    "    box_21 = axs[2, 1].boxplot((np.abs(ytest.to_numpy() - ytest_pred_list[2].to_numpy())), patch_artist = True, notch = False, showfliers = False)\n",
    "\n",
    "    # set colors\n",
    "    colors = [\n",
    "                '#0000FF', '#00FF00', '#FFFF00', '#DE3163', \n",
    "                '#00FFFF', '#00FFF0', '#6495ED', '#FFF0FF', \n",
    "                '#000FFF', '#0FFF00', '#FFFF0F', '#FF7F50', \n",
    "                #'#F000FF', '#FFBF00'\n",
    "            ]\n",
    "    for patch, color in zip(box_00['boxes'], colors): patch.set_facecolor(color)\n",
    "    for patch, color in zip(box_01['boxes'], colors): patch.set_facecolor(color)\n",
    "    for patch, color in zip(box_10['boxes'], colors): patch.set_facecolor(color)\n",
    "    for patch, color in zip(box_11['boxes'], colors): patch.set_facecolor(color)\n",
    "    for patch, color in zip(box_20['boxes'], colors): patch.set_facecolor(color)\n",
    "    for patch, color in zip(box_21['boxes'], colors): patch.set_facecolor(color)\n",
    "\n",
    "    # update the text formats\n",
    "    plt.rcParams['mathtext.fontset'] = 'cm'\n",
    "    plt.rcParams[\"font.family\"] = \"serif\"\n",
    "    plt.rcParams[\"font.serif\"] = [\"Times New Roman\"] + plt.rcParams[\"font.serif\"]\n",
    "    plt.rcParams['font.size'] = 10\n",
    "\n",
    "    # set labels\n",
    "    fig.supylabel(r'$\\rm MAE $', fontsize = 22, fontweight = 'bold')\n",
    "    fig.supxlabel(r'$\\rm Solvation \\ descriptors $', fontsize = 22, fontweight = 'bold')\n",
    "\n",
    "    axs[0, 0].set_title(r'$\\rm Train$', fontsize = 22, fontweight = 'bold')\n",
    "    axs[0, 1].set_title(r'$\\rm Test$', fontsize = 22, fontweight = 'bold')\n",
    "\n",
    "    alphabets = list(string.ascii_uppercase)[:len(list(ytrain.columns))]\n",
    "    axs[2, 0].set_xticklabels(labels=[f'{i}' for i in alphabets], fontsize='x-large') \n",
    "    axs[2, 1].set_xticklabels(labels=[f'{i}' for i in alphabets], fontsize='x-large') \n",
    "\n",
    "    axs[0, 0].set_ylabel(r'$SVR$', labelpad = 5, fontsize = 15, fontweight='bold')\n",
    "    axs[1, 0].set_ylabel(r'$ANN$', labelpad = 5, fontsize = 15, fontweight='bold')\n",
    "    axs[2, 0].set_ylabel(r'$RFR$', labelpad = 5, fontsize = 15, fontweight='bold')\n",
    "\n",
    "    # set axis\n",
    "    axs[0, 0].set_xticks([]); axs[1, 0].set_xticks([])\n",
    "    axs[0, 1].set_xticks([]); axs[1, 1].set_xticks([])\n",
    "\n",
    "    # if type_data == 'A0':\n",
    "    #     axs[0, 0].set_ylim([-0.02, 0.3]); axs[1, 0].set_ylim([-0.02, 0.3]); axs[2, 0].set_ylim([-0.02, 0.3])\n",
    "    #     axs[0, 1].set_ylim([-0.02, 0.7]); axs[1, 1].set_ylim([-0.02, 0.7]); axs[2, 1].set_ylim([-0.02, 0.7])\n",
    "\n",
    "    # if type_data == 'A1':\n",
    "    #     axs[0, 0].set_ylim([-0.02, 0.5]); axs[1, 0].set_ylim([-0.02, 0.5]); axs[2, 0].set_ylim([-0.02, 0.5])\n",
    "    #     axs[0, 1].set_ylim([-0.02, 1.0]); axs[1, 1].set_ylim([-0.02, 1.0]); axs[2, 1].set_ylim([-0.02, 1.0])\n",
    "    \n",
    "    # if type_data == 'A2':\n",
    "    #     axs[0, 0].set_ylim([-0.02, 0.6]); axs[1, 0].set_ylim([-0.02, 0.6]); axs[2, 0].set_ylim([-0.02, 0.6])\n",
    "    #     axs[0, 1].set_ylim([-0.02, 1.5]); axs[1, 1].set_ylim([-0.02, 1.5]); axs[2, 1].set_ylim([-0.02, 1.5])\n",
    "   \n",
    "\n",
    "    plt.tight_layout()\n",
    "    plt.show\n",
    "    #plt.savefig(f'reports/figures/mainPAPER/{title}.png', dpi=600) "
   ]
  },
  {
   "cell_type": "code",
   "execution_count": null,
   "metadata": {},
   "outputs": [],
   "source": [
    "#plot figures\n",
    "#model.\n",
    "box_plot_MAE_ALL(ytrain = y_train, \n",
    "                        ytest = y_test, \n",
    "                            ytrain_pred_list = [SVR_A0_results_train, ANN_A0_results_train, RFR_A0_results_train],\n",
    "                                ytest_pred_list = [SVR_A0_results_test, ANN_A0_results_test, RFR_A0_results_test],\n",
    "                                type_data = 'A0', \n",
    "                                title = 'performance_A0_MAE_all_models_no_diffusion'\n",
    "                            )"
   ]
  },
  {
   "cell_type": "code",
   "execution_count": null,
   "metadata": {},
   "outputs": [],
   "source": []
  }
 ],
 "metadata": {
  "kernelspec": {
   "display_name": "Python 3.9.12 ('base')",
   "language": "python",
   "name": "python3"
  },
  "language_info": {
   "codemirror_mode": {
    "name": "ipython",
    "version": 3
   },
   "file_extension": ".py",
   "mimetype": "text/x-python",
   "name": "python",
   "nbconvert_exporter": "python",
   "pygments_lexer": "ipython3",
   "version": "3.9.12"
  },
  "orig_nbformat": 4,
  "vscode": {
   "interpreter": {
    "hash": "a4cfc56dc5d516918192a8d148c68cab6fbda7f963f06d9bafd6c3f39bfdb509"
   }
  }
 },
 "nbformat": 4,
 "nbformat_minor": 2
}
