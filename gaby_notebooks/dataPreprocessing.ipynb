{
 "cells": [
  {
   "cell_type": "code",
   "execution_count": 1,
   "metadata": {},
   "outputs": [
    {
     "name": "stdout",
     "output_type": "stream",
     "text": [
      "Collecting rdkit\n",
      "  Downloading rdkit-2023.3.1-cp39-cp39-win_amd64.whl (20.7 MB)\n",
      "     ---------------------------------------- 20.7/20.7 MB 5.7 MB/s eta 0:00:00\n",
      "Requirement already satisfied: numpy in c:\\users\\gabi1\\anaconda3\\lib\\site-packages (from rdkit) (1.21.5)\n",
      "Requirement already satisfied: Pillow in c:\\users\\gabi1\\anaconda3\\lib\\site-packages (from rdkit) (9.2.0)\n",
      "Installing collected packages: rdkit\n",
      "Successfully installed rdkit-2023.3.1\n",
      "Note: you may need to restart the kernel to use updated packages.\n"
     ]
    }
   ],
   "source": [
    "pip install rdkit"
   ]
  },
  {
   "cell_type": "code",
   "execution_count": 1,
   "metadata": {},
   "outputs": [],
   "source": [
    "from rdkit import Chem\n",
    "from rdkit.Chem import AllChem\n",
    "from rdkit.Chem.Draw import IPythonConsole\n",
    "from rdkit import DataStructs\n",
    "# import multifunctional libraries\n",
    "import os\n",
    "import numpy as np\n",
    "import pandas as pd\n",
    "import string\n",
    "import pickle"
   ]
  },
  {
   "cell_type": "code",
   "execution_count": 2,
   "metadata": {},
   "outputs": [
    {
     "data": {
      "text/plain": [
       "'c:\\\\Users\\\\gabi1\\\\git\\\\ACTC_MD_ML\\\\gaby_notebooks'"
      ]
     },
     "execution_count": 2,
     "metadata": {},
     "output_type": "execute_result"
    }
   ],
   "source": [
    "os.getcwd()"
   ]
  },
  {
   "cell_type": "code",
   "execution_count": 3,
   "metadata": {},
   "outputs": [
    {
     "data": {
      "text/plain": [
       "'c:\\\\Users\\\\gabi1\\\\git\\\\ACTC_MD_ML\\\\data\\\\generated'"
      ]
     },
     "execution_count": 3,
     "metadata": {},
     "output_type": "execute_result"
    }
   ],
   "source": [
    "os.chdir('..\\\\data\\\\generated')\n",
    "os.getcwd()"
   ]
  },
  {
   "cell_type": "code",
   "execution_count": 4,
   "metadata": {},
   "outputs": [
    {
     "data": {
      "text/html": [
       "<div>\n",
       "<style scoped>\n",
       "    .dataframe tbody tr th:only-of-type {\n",
       "        vertical-align: middle;\n",
       "    }\n",
       "\n",
       "    .dataframe tbody tr th {\n",
       "        vertical-align: top;\n",
       "    }\n",
       "\n",
       "    .dataframe thead th {\n",
       "        text-align: right;\n",
       "    }\n",
       "</style>\n",
       "<table border=\"1\" class=\"dataframe\">\n",
       "  <thead>\n",
       "    <tr style=\"text-align: right;\">\n",
       "      <th></th>\n",
       "      <th>#</th>\n",
       "      <th>Name of the polymer</th>\n",
       "      <th>CounterIon</th>\n",
       "      <th>Co-Ion</th>\n",
       "      <th>salt</th>\n",
       "      <th>Water-per-ion</th>\n",
       "      <th>concentration of salt (M)</th>\n",
       "      <th>gr_minima (Ion_H2O)</th>\n",
       "      <th>gr_peak_position (Ion_H2O)</th>\n",
       "      <th>gr_peak_height (Ion_H2O)</th>\n",
       "      <th>Nr_(Ion_H2O)</th>\n",
       "      <th>gr_minima (CG_H2O)</th>\n",
       "      <th>gr_peak_position (CG_H2O)</th>\n",
       "      <th>gr_peak_hight (CG_H2O)</th>\n",
       "      <th>Nr_(CG_H2O)</th>\n",
       "      <th>gr_minima (CG_Ion)</th>\n",
       "      <th>gr_peak_position (CG_Ion)</th>\n",
       "      <th>gr_peak_height (CG_Ion)</th>\n",
       "      <th>Nr_(CG_Ion)</th>\n",
       "      <th>Experimental activity co.</th>\n",
       "    </tr>\n",
       "  </thead>\n",
       "  <tbody>\n",
       "    <tr>\n",
       "      <th>0</th>\n",
       "      <td>1</td>\n",
       "      <td>PSbNMP_RCE</td>\n",
       "      <td>I-</td>\n",
       "      <td>K+</td>\n",
       "      <td>KI</td>\n",
       "      <td>6</td>\n",
       "      <td>0.02</td>\n",
       "      <td>4.45</td>\n",
       "      <td>3.65</td>\n",
       "      <td>6.50</td>\n",
       "      <td>4.70</td>\n",
       "      <td>5.50</td>\n",
       "      <td>3.55</td>\n",
       "      <td>2.30</td>\n",
       "      <td>6.10</td>\n",
       "      <td>6.15</td>\n",
       "      <td>4.15</td>\n",
       "      <td>5.80</td>\n",
       "      <td>1.90</td>\n",
       "      <td>0.300000</td>\n",
       "    </tr>\n",
       "    <tr>\n",
       "      <th>1</th>\n",
       "      <td>2</td>\n",
       "      <td>PSbNMP_RCE</td>\n",
       "      <td>I-</td>\n",
       "      <td>K+</td>\n",
       "      <td>KI</td>\n",
       "      <td>6</td>\n",
       "      <td>0.20</td>\n",
       "      <td>4.45</td>\n",
       "      <td>3.65</td>\n",
       "      <td>6.30</td>\n",
       "      <td>4.60</td>\n",
       "      <td>5.50</td>\n",
       "      <td>3.55</td>\n",
       "      <td>1.90</td>\n",
       "      <td>5.00</td>\n",
       "      <td>6.15</td>\n",
       "      <td>4.15</td>\n",
       "      <td>5.80</td>\n",
       "      <td>2.00</td>\n",
       "      <td>0.319000</td>\n",
       "    </tr>\n",
       "    <tr>\n",
       "      <th>2</th>\n",
       "      <td>3</td>\n",
       "      <td>PSbNMP_RCE</td>\n",
       "      <td>I-</td>\n",
       "      <td>K+</td>\n",
       "      <td>KI</td>\n",
       "      <td>6</td>\n",
       "      <td>0.50</td>\n",
       "      <td>4.45</td>\n",
       "      <td>3.65</td>\n",
       "      <td>6.20</td>\n",
       "      <td>4.60</td>\n",
       "      <td>5.50</td>\n",
       "      <td>3.55</td>\n",
       "      <td>1.80</td>\n",
       "      <td>4.50</td>\n",
       "      <td>6.15</td>\n",
       "      <td>4.15</td>\n",
       "      <td>5.60</td>\n",
       "      <td>2.20</td>\n",
       "      <td>0.476000</td>\n",
       "    </tr>\n",
       "    <tr>\n",
       "      <th>3</th>\n",
       "      <td>4</td>\n",
       "      <td>PSbNMP_RCE</td>\n",
       "      <td>I-</td>\n",
       "      <td>K+</td>\n",
       "      <td>KI</td>\n",
       "      <td>6</td>\n",
       "      <td>1.00</td>\n",
       "      <td>4.55</td>\n",
       "      <td>3.65</td>\n",
       "      <td>6.00</td>\n",
       "      <td>4.70</td>\n",
       "      <td>5.00</td>\n",
       "      <td>3.55</td>\n",
       "      <td>1.50</td>\n",
       "      <td>3.00</td>\n",
       "      <td>6.15</td>\n",
       "      <td>4.15</td>\n",
       "      <td>5.10</td>\n",
       "      <td>2.50</td>\n",
       "      <td>0.663000</td>\n",
       "    </tr>\n",
       "    <tr>\n",
       "      <th>4</th>\n",
       "      <td>5</td>\n",
       "      <td>PVAS_RCE</td>\n",
       "      <td>Na+</td>\n",
       "      <td>Cl-</td>\n",
       "      <td>NaCl</td>\n",
       "      <td>113</td>\n",
       "      <td>0.02</td>\n",
       "      <td>3.15</td>\n",
       "      <td>2.35</td>\n",
       "      <td>8.55</td>\n",
       "      <td>5.38</td>\n",
       "      <td>3.37</td>\n",
       "      <td>2.76</td>\n",
       "      <td>1.83</td>\n",
       "      <td>2.98</td>\n",
       "      <td>3.06</td>\n",
       "      <td>2.35</td>\n",
       "      <td>6.71</td>\n",
       "      <td>0.13</td>\n",
       "      <td>0.280899</td>\n",
       "    </tr>\n",
       "  </tbody>\n",
       "</table>\n",
       "</div>"
      ],
      "text/plain": [
       "   # Name of the polymer CounterIon Co-Ion  salt  Water-per-ion  \\\n",
       "0  1          PSbNMP_RCE         I-     K+    KI              6   \n",
       "1  2          PSbNMP_RCE         I-     K+    KI              6   \n",
       "2  3          PSbNMP_RCE         I-     K+    KI              6   \n",
       "3  4          PSbNMP_RCE         I-     K+    KI              6   \n",
       "4  5            PVAS_RCE        Na+    Cl-  NaCl            113   \n",
       "\n",
       "   concentration of salt (M)  gr_minima (Ion_H2O)  gr_peak_position (Ion_H2O)  \\\n",
       "0                       0.02                 4.45                        3.65   \n",
       "1                       0.20                 4.45                        3.65   \n",
       "2                       0.50                 4.45                        3.65   \n",
       "3                       1.00                 4.55                        3.65   \n",
       "4                       0.02                 3.15                        2.35   \n",
       "\n",
       "   gr_peak_height (Ion_H2O)  Nr_(Ion_H2O)  gr_minima (CG_H2O)  \\\n",
       "0                      6.50          4.70                5.50   \n",
       "1                      6.30          4.60                5.50   \n",
       "2                      6.20          4.60                5.50   \n",
       "3                      6.00          4.70                5.00   \n",
       "4                      8.55          5.38                3.37   \n",
       "\n",
       "   gr_peak_position (CG_H2O)  gr_peak_hight (CG_H2O)  Nr_(CG_H2O)  \\\n",
       "0                       3.55                    2.30         6.10   \n",
       "1                       3.55                    1.90         5.00   \n",
       "2                       3.55                    1.80         4.50   \n",
       "3                       3.55                    1.50         3.00   \n",
       "4                       2.76                    1.83         2.98   \n",
       "\n",
       "   gr_minima (CG_Ion)  gr_peak_position (CG_Ion)  gr_peak_height (CG_Ion)  \\\n",
       "0                6.15                       4.15                     5.80   \n",
       "1                6.15                       4.15                     5.80   \n",
       "2                6.15                       4.15                     5.60   \n",
       "3                6.15                       4.15                     5.10   \n",
       "4                3.06                       2.35                     6.71   \n",
       "\n",
       "   Nr_(CG_Ion)  Experimental activity co.  \n",
       "0         1.90                   0.300000  \n",
       "1         2.00                   0.319000  \n",
       "2         2.20                   0.476000  \n",
       "3         2.50                   0.663000  \n",
       "4         0.13                   0.280899  "
      ]
     },
     "execution_count": 4,
     "metadata": {},
     "output_type": "execute_result"
    }
   ],
   "source": [
    "data = pd.read_csv('1-0-hgk-MD-ActCoeff-processed_Activity.csv', encoding='latin1')\n",
    "#data = pd.DataFrame(data)\n",
    "data.head()"
   ]
  },
  {
   "cell_type": "code",
   "execution_count": null,
   "metadata": {},
   "outputs": [],
   "source": [
    "#"
   ]
  },
  {
   "cell_type": "code",
   "execution_count": 7,
   "metadata": {},
   "outputs": [
    {
     "data": {
      "text/plain": [
       "'c:\\\\Users\\\\gabi1\\\\git\\\\ACTC_MD_ML'"
      ]
     },
     "execution_count": 7,
     "metadata": {},
     "output_type": "execute_result"
    }
   ],
   "source": [
    "#Change directory\n",
    "os.chdir('../')\n",
    "os.getcwd()\n"
   ]
  },
  {
   "cell_type": "code",
   "execution_count": 10,
   "metadata": {},
   "outputs": [
    {
     "data": {
      "text/plain": [
       "{'AR103': <rdkit.Chem.rdchem.Mol at 0x1c9c586ab30>,\n",
       " 'AR204': <rdkit.Chem.rdchem.Mol at 0x1c9c586a3c0>,\n",
       " 'CR61': <rdkit.Chem.rdchem.Mol at 0x1c9c586aba0>,\n",
       " 'NAFION': <rdkit.Chem.rdchem.Mol at 0x1c9c586ac10>,\n",
       " 'PVAS_BCE': <rdkit.Chem.rdchem.Mol at 0x1c9c586add0>,\n",
       " 'PVAS_RCE': <rdkit.Chem.rdchem.Mol at 0x1c9c586ad60>,\n",
       " 'PSbNMP_BCE': <rdkit.Chem.rdchem.Mol at 0x1c9c586ac80>,\n",
       " 'PSbNMP_RCE': <rdkit.Chem.rdchem.Mol at 0x1c9c586acf0>,\n",
       " 'CEM1': <rdkit.Chem.rdchem.Mol at 0x1c9c586ae40>,\n",
       " 'CEM2': <rdkit.Chem.rdchem.Mol at 0x1c9c586aeb0>,\n",
       " 'CEM3': <rdkit.Chem.rdchem.Mol at 0x1c9c586af20>,\n",
       " 'XLAPn4_9p': <rdkit.Chem.rdchem.Mol at 0x1c9c586af90>,\n",
       " 'XLAPn4_45p': <rdkit.Chem.rdchem.Mol at 0x1c9c5878040>}"
      ]
     },
     "execution_count": 10,
     "metadata": {},
     "output_type": "execute_result"
    }
   ],
   "source": [
    "#load polimers\n",
    "from src.polymerSMILES import polymers\n",
    "\n",
    "polymers_dict = polymers.get_data()\n",
    "polymers_dict"
   ]
  }
 ],
 "metadata": {
  "kernelspec": {
   "display_name": "base",
   "language": "python",
   "name": "python3"
  },
  "language_info": {
   "codemirror_mode": {
    "name": "ipython",
    "version": 3
   },
   "file_extension": ".py",
   "mimetype": "text/x-python",
   "name": "python",
   "nbconvert_exporter": "python",
   "pygments_lexer": "ipython3",
   "version": "3.9.13"
  },
  "orig_nbformat": 4
 },
 "nbformat": 4,
 "nbformat_minor": 2
}
